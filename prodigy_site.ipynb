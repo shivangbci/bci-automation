{
 "cells": [
  {
   "cell_type": "code",
   "execution_count": 2,
   "metadata": {},
   "outputs": [],
   "source": [
    "import requests\n",
    "from bs4 import BeautifulSoup\n"
   ]
  },
  {
   "cell_type": "code",
   "execution_count": null,
   "metadata": {},
   "outputs": [
    {
     "name": "stdout",
     "output_type": "stream",
     "text": [
      "[❌] Login Failed! Check credentials or login endpoint.\n"
     ]
    }
   ],
   "source": [
    "# Define the login URL (You may need to inspect the page to get the exact login endpoint)\n",
    "LOGIN_URL = \"https://investors.prodigyfinance.com/\"  # Replace if needed\n",
    "DASHBOARD_URL = \"https://investors.prodigyfinance.com/dashboard\"  # Replace with the desired page\n",
    "\n",
    "# Your login credentials\n",
    "EMAIL = \"zoltan.zelei@bci-capital.com\"\n",
    "PASSWORD = \"Bci2023@\"\n",
    "\n",
    "# Start a session\n",
    "session = requests.Session()\n",
    "\n",
    "# Define the payload (Form data for login)\n",
    "payload = {\n",
    "    \"email\": EMAIL,\n",
    "    \"password\": PASSWORD\n",
    "}\n",
    "\n",
    "# Send POST request to login\n",
    "response = session.post(LOGIN_URL, data=payload)\n",
    "\n",
    "# Check if login was successful\n",
    "if response.status_code == 200 and \"logout\" in response.text.lower():\n",
    "    print(\"[✅] Login Successful!\")\n",
    "    \n",
    "    # # Now, access another page (e.g., Dashboard)\n",
    "    # dashboard_response = session.get(DASHBOARD_URL)\n",
    "\n",
    "    # # Parse the dashboard page\n",
    "    # soup = BeautifulSoup(dashboard_response.text, \"html.parser\")\n",
    "    \n",
    "    # # Print the first 500 characters to check if it's loaded\n",
    "    # print(soup.prettify()[:500])\n",
    "\n",
    "else:\n",
    "    print(\"[❌] Login Failed! Check credentials or login endpoint.\")\n"
   ]
  },
  {
   "cell_type": "code",
   "execution_count": null,
   "metadata": {},
   "outputs": [],
   "source": []
  }
 ],
 "metadata": {
  "kernelspec": {
   "display_name": "auto",
   "language": "python",
   "name": "python3"
  },
  "language_info": {
   "codemirror_mode": {
    "name": "ipython",
    "version": 3
   },
   "file_extension": ".py",
   "mimetype": "text/x-python",
   "name": "python",
   "nbconvert_exporter": "python",
   "pygments_lexer": "ipython3",
   "version": "3.9.6"
  }
 },
 "nbformat": 4,
 "nbformat_minor": 2
}
