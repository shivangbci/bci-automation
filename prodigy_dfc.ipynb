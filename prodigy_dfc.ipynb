{
 "cells": [
  {
   "cell_type": "code",
   "execution_count": 80,
   "metadata": {},
   "outputs": [],
   "source": [
    "import re\n",
    "import os\n",
    "import pandas as pd\n",
    "import pdfplumber"
   ]
  },
  {
   "cell_type": "code",
   "execution_count": 81,
   "metadata": {},
   "outputs": [],
   "source": [
    "pdf_path = \"/Users/shivangsingh/Downloads/2.15-3 PFCM 2020-1 Servicer Report - Feb 25 (UK EU).pdf\"\n",
    "folder_name = \"dfc_files\""
   ]
  },
  {
   "cell_type": "code",
   "execution_count": 82,
   "metadata": {},
   "outputs": [
    {
     "name": "stdout",
     "output_type": "stream",
     "text": [
      "PFCM 2020-1 Servicer Report - Feb 25 (UK EU)\n",
      "COLLATERAL STRATS\n",
      "Feb Loan Tape\n",
      "1 Collateral Strats\n",
      "All balances principal, admin fee and grace interest USD Loans\n",
      "unless stated otherwise USD\n",
      "# Loans 9,124\n",
      "Principal Balance & Admin Fee Only 9 0,168,991\n",
      "Plus Interest During Grace 9 9,252,731\n",
      "Average Loan Size 10,878\n",
      "Current Balance 103,595,247\n",
      "Average Loan Size 11,354\n",
      "Loan Approved Balance & Admin Fee 322,995,009\n",
      "Average Loan Size 35,401\n",
      "Loans In Repayment Stage Balance 9 5,645,151\n",
      "MBA Course Balance 2 1,241,503\n",
      "Non-MBA Course Balance 8,921,736\n",
      "Non-Business Course Balance 2 5,901,808\n",
      "Female Borrower Balance 3 6,391,241\n",
      "Low and Lower Middle-Income Countries Balance 8 1,676,701\n",
      "Permitted Modification Loan Balance 923,890\n",
      "WA Margin Loans (%) 8.16%\n",
      "Lowest Margin (%) 3.50%\n",
      "Last Maturity Date 15/03/2045\n",
      "WA Original Repay Period (Years) 1 5.0\n",
      "Grace Loans WA Remaining Grace Period (Months) 3.7\n",
      "2 Delinquency & Payment Arrangement Data\n",
      "All balances principal, admin fee and grace interest USD Loans # Loans\n",
      "unless stated otherwise USD\n",
      "Delinquency\n",
      "a Current 6 9,723,696 8,281\n",
      "b Delinquent <=30 days 5,097,609 151\n",
      "c Delinquent 31-60 days 3,347,471 103\n",
      "d Delinquent 61-90 days 2,503,527 73\n",
      "e Delinquent 91-120 days 2,170,116 61\n",
      "f Delinquent 121 - 150 days 1,025,403 30\n",
      "g Delinquent 151 - 180 days 726,597 21\n",
      "h Delinquent 180+ days (Default) 1 4,658,313 404\n",
      "Payment Arrangement\n",
      "g Non Study Extension 4,348,227 126\n",
      "h Study Extension 35,684 1\n",
      "Confidential 13/02/2025 Page 1\n"
     ]
    }
   ],
   "source": [
    "with pdfplumber.open(pdf_path) as pdf:\n",
    "    page = pdf.pages[0]  # Page index 1 for Page 2\n",
    "    text = page.extract_text()  # Extract text instead of table\n",
    "\n",
    "lines = text.split(\"\\n\")\n",
    "\n",
    "for line in lines:\n",
    "    print(line)\n"
   ]
  },
  {
   "cell_type": "code",
   "execution_count": 83,
   "metadata": {},
   "outputs": [],
   "source": [
    "\n",
    "key_value_pairs = [\n",
    "    (lines[1], \"\"),\n",
    "    (lines[2], \"\")\n",
    "]\n",
    "\n",
    "# Convert the key-value pairs into a DataFrame\n",
    "df1 = pd.DataFrame(key_value_pairs, columns=[\"Key\", \"Value\"])\n",
    "df1\n",
    "output_filename = os.path.join(folder_name, 'extracted_df1.xlsx')\n",
    "df1.to_excel(output_filename, index=False, header=False)"
   ]
  },
  {
   "cell_type": "code",
   "execution_count": 84,
   "metadata": {},
   "outputs": [
    {
     "data": {
      "text/plain": [
       "['All balances principal admin fee and grace interest USD Loans',\n",
       " 'unless stated otherwise USD',\n",
       " '# Loans 9124',\n",
       " 'Principal Balance & Admin Fee Only 90168991',\n",
       " 'Plus Interest During Grace 99252731',\n",
       " 'Average Loan Size 10878',\n",
       " 'Current Balance 103595247',\n",
       " 'Average Loan Size 11354',\n",
       " 'Loan Approved Balance & Admin Fee 322995009',\n",
       " 'Average Loan Size 35401',\n",
       " 'Loans In Repayment Stage Balance 95645151',\n",
       " 'MBA Course Balance 21241503',\n",
       " 'Non-MBA Course Balance 8921736',\n",
       " 'Non-Business Course Balance 25901808',\n",
       " 'Female Borrower Balance 36391241',\n",
       " 'Low and Lower Middle-Income Countries Balance 81676701',\n",
       " 'Permitted Modification Loan Balance 923890',\n",
       " 'WA Margin Loans (%) 8.16%',\n",
       " 'Lowest Margin (%) 3.50%',\n",
       " 'Last Maturity Date 15/03/2045',\n",
       " 'WA Original Repay Period (Years) 15.0',\n",
       " 'Grace Loans WA Remaining Grace Period (Months) 3.7']"
      ]
     },
     "execution_count": 84,
     "metadata": {},
     "output_type": "execute_result"
    }
   ],
   "source": [
    "def is_number(s):\n",
    "    \"\"\"Check if a string represents a number (integer or float).\"\"\"\n",
    "    try:\n",
    "        float(s)  # Try converting to float\n",
    "        return True\n",
    "    except ValueError:\n",
    "        return False\n",
    "\n",
    "def process_strings_limited(s):\n",
    "    s = s.replace(\",\", \"\")  # Remove all commas\n",
    "    words = s.split()\n",
    "\n",
    "    # Check if the last two words are numbers (integer or float)\n",
    "    if len(words) >= 2 and is_number(words[-1]) and is_number(words[-2]):\n",
    "        words[-2] = words[-2] + words[-1]  # Concatenate numbers\n",
    "        words.pop()  # Remove the last word\n",
    "    \n",
    "    return \" \".join(words)\n",
    "\n",
    "cleaned_lines = [process_strings_limited(line) for line in lines[4:26]]\n",
    "cleaned_lines"
   ]
  },
  {
   "cell_type": "code",
   "execution_count": 85,
   "metadata": {},
   "outputs": [],
   "source": [
    "data = []\n",
    "for line in cleaned_lines:\n",
    "    words = line.split()\n",
    "    key = \" \".join(words[:-1])  # Everything except last word\n",
    "    value = words[-1]  # Last word is the value\n",
    "    data.append((key, value))\n",
    "\n",
    "df2 = pd.DataFrame(data, columns=[lines[3], \"\"])\n",
    "# df2\n",
    "output_filename = os.path.join(folder_name, 'extracted_df2.xlsx')\n",
    "df2.to_excel(output_filename, index=False, header=False)"
   ]
  },
  {
   "cell_type": "code",
   "execution_count": 86,
   "metadata": {},
   "outputs": [
    {
     "data": {
      "text/plain": [
       "['2 Delinquency & Payment Arrangement Data',\n",
       " 'All balances principal admin fee and grace interest USD Loans # Loans',\n",
       " 'unless stated otherwise USD',\n",
       " 'Delinquency',\n",
       " 'a Current 69723696 8281',\n",
       " 'b Delinquent <=30 days 5097609 151',\n",
       " 'c Delinquent 31-60 days 3347471 103',\n",
       " 'd Delinquent 61-90 days 2503527 73',\n",
       " 'e Delinquent 91-120 days 2170116 61',\n",
       " 'f Delinquent 121 - 150 days 1025403 30',\n",
       " 'g Delinquent 151 - 180 days 726597 21',\n",
       " 'h Delinquent 180+ days (Default) 14658313 404',\n",
       " 'Payment Arrangement',\n",
       " 'g Non Study Extension 4348227 126']"
      ]
     },
     "execution_count": 86,
     "metadata": {},
     "output_type": "execute_result"
    }
   ],
   "source": [
    "\n",
    "def clean_number_format(line):\n",
    "    # Remove commas\n",
    "    line = line.replace(\",\", \"\")\n",
    "    \n",
    "    # Split the line into words\n",
    "    parts = line.split()\n",
    "    \n",
    "    # Ensure there are at least three elements to check\n",
    "    if len(parts) > 3:\n",
    "        # Check if the last three parts are numbers (including decimals)\n",
    "        if re.match(r'^\\d+(\\.\\d+)?$', parts[-1]) and re.match(r'^\\d+(\\.\\d+)?$', parts[-2]) and re.match(r'^\\d+(\\.\\d+)?$', parts[-3]):\n",
    "            # Concatenate -3 and -2\n",
    "            parts[-3] = parts[-3] + parts[-2]\n",
    "            parts.pop(-2)  # Remove the now redundant -2\n",
    "    \n",
    "    return \" \".join(parts)\n",
    "\n",
    "cleaned_lines = [clean_number_format(line) for line in lines[26:-2]]\n",
    "cleaned_lines\n"
   ]
  },
  {
   "cell_type": "code",
   "execution_count": 87,
   "metadata": {},
   "outputs": [],
   "source": [
    "data = []\n",
    "for line in cleaned_lines:\n",
    "    parts = line.split()\n",
    "    if len(parts) >= 3 and parts[-1].isdigit() and parts[-2].isdigit():\n",
    "        name = \" \".join(parts[:-2])  # Everything except last two parts\n",
    "        num1 = parts[-2]  # Second last part\n",
    "        num2 = parts[-1]  # Last part\n",
    "        data.append([name, num1, num2])\n",
    "    else:\n",
    "        data.append([line, \"\", \"\"])  # Keep the first column, leave the others empty\n",
    "\n",
    "# Create DataFrame\n",
    "df3 = pd.DataFrame(data, columns=[\"\", \"\", \"\"])\n",
    "# df3\n",
    "output_filename = os.path.join(folder_name, 'extracted_df3.xlsx')\n",
    "df3.to_excel(output_filename, index=False, header=False)"
   ]
  },
  {
   "cell_type": "code",
   "execution_count": 88,
   "metadata": {},
   "outputs": [
    {
     "data": {
      "text/plain": [
       "['PFCM 2020-1 Servicer Report - Feb 25 (UK EU)',\n",
       " 'SERVICER INFORMATION',\n",
       " '1 Dates',\n",
       " 'Report Delivery Date 19/02/20258 Business Days after Cut off Date',\n",
       " 'Period Start Date 07/01/2025 Current Report Cut-Off 7 Feb 25',\n",
       " 'Period Cut Off Date 07/02/2025 Previous Report Cut-Off 7 Jan 25',\n",
       " 'Next Interest Payment Date 07/03/2025 Next Report Cut-Off 7 Mar 25',\n",
       " '2 Reporting Period SOFR Information Fixes 7th JAJO',\n",
       " '3M USD SOFR Fix Date 07/01/2025 30 Day Average SOFR Fix Date (monthly) 07/01/2025',\n",
       " '3M USD SOFR Rate 4.28516% 30 Day Average SOFR Rate 4.47178%',\n",
       " '3 Period Collections',\n",
       " 'USD',\n",
       " 'Grace Interest Collections 3 59,344.34',\n",
       " 'Post Grace Interest Collections 9 07,799.80',\n",
       " 'Arrears Interest Collections 7 7.94',\n",
       " 'Total Interest Receipts 1,267,222.08',\n",
       " 'Principal Collections 2,417,313.63',\n",
       " 'Admin Fee Collections 70,943.71',\n",
       " 'Total Principal Receipts 2,488,257.34',\n",
       " 'Legal Fee Proceeds Recovered from Obligors',\n",
       " 'Legal Fee Proceeds applied to Available Proceeds on 7 Mar 25 2,761.33',\n",
       " 'Total Loan Collections 3,758,240.75',\n",
       " 'Recoveries USD',\n",
       " 'Collections received on Default loans (as part of Total Collections) 54,502.91',\n",
       " 'VAT Returns Proceeds USD',\n",
       " 'VAT Returns to be applied to Available Proceeds on 7 Mar 25 -',\n",
       " '4 Prodigy Financial Covenants',\n",
       " 'USD Eq',\n",
       " 'Test Date 07/02/2025',\n",
       " 'Minimum Tangible Net Worth Covenant',\n",
       " 'Paid up issued share capital of PIL and dist & non dist reserves 171,365,491',\n",
       " 'Plus convertible loan notes -',\n",
       " 'Less debit balance on PnL (151,512,220)',\n",
       " 'Excluding increase in asset valuation after most recent audited financials -',\n",
       " 'Excluding goodwill and intangible assets (303,457)',\n",
       " 'Excluding capitalised transaction expenses 112,690',\n",
       " 'Excluding mark-to-market movements in any hedging agreements -',\n",
       " 'Tangible Net Worth 1 9,662,504',\n",
       " 'Minimum Tangible Net Worth Requirement 5 ,000,000',\n",
       " 'Tangible Net Worth Covenant Test Pass/Fail PASS',\n",
       " 'Minimum Cash & Cash Equivalents Covenant',\n",
       " 'PIL Group Cash & Cash Equivalents 1 5,250,035',\n",
       " 'Minimum Cash and Cash Equivalents Requirement 5,000,000',\n",
       " 'Cash Covenant Test Pass/Fail PASS',\n",
       " '6 month burn rate',\n",
       " 'Total income 1 8,903,122',\n",
       " '(Increase) / Decrease in trade and other receivables 478,744',\n",
       " 'Less: non-recurring revenues -',\n",
       " 'A: Operating revenue received in cash 1 9,381,865',\n",
       " 'Total direct and operating costs (11,523,454)',\n",
       " 'Increase / (Decrease) in trade payables (882,337)',\n",
       " 'Purchase of property, plant and equipment -',\n",
       " 'Proceeds on disposal of property, plant and equipment -',\n",
       " 'Interest paid -',\n",
       " 'Less: non-recurring expenses',\n",
       " 'B: Operating expenses paid in cash (12,405,791)',\n",
       " 'Burn rate for prior 6 months: Net Outflow of Cash (A less B) 6,976,074',\n",
       " 'Confidential 13/02/2025 Page 5']"
      ]
     },
     "execution_count": 88,
     "metadata": {},
     "output_type": "execute_result"
    }
   ],
   "source": [
    "# Page 2\n",
    "with pdfplumber.open(pdf_path) as pdf:\n",
    "    page_5 = pdf.pages[4]  # Page index 1 for Page 2\n",
    "    text = page_5.extract_text()  # Extract text instead of table\n",
    "\n",
    "lines = text.split(\"\\n\")\n",
    "lines"
   ]
  },
  {
   "cell_type": "code",
   "execution_count": 89,
   "metadata": {},
   "outputs": [
    {
     "data": {
      "text/plain": [
       "26"
      ]
     },
     "execution_count": 89,
     "metadata": {},
     "output_type": "execute_result"
    }
   ],
   "source": [
    "index_4 = next((i for i, line in enumerate(lines) if line.startswith(\"4\")), -1)\n",
    "index_4"
   ]
  },
  {
   "cell_type": "code",
   "execution_count": 90,
   "metadata": {},
   "outputs": [
    {
     "data": {
      "text/plain": [
       "['4 Prodigy Financial Covenants',\n",
       " 'USD Eq',\n",
       " 'Test Date 07/02/2025',\n",
       " 'Minimum Tangible Net Worth Covenant',\n",
       " 'Paid up issued share capital of PIL and dist & non dist reserves 171365491',\n",
       " 'Plus convertible loan notes -',\n",
       " 'Less debit balance on PnL (151512220)',\n",
       " 'Excluding increase in asset valuation after most recent audited financials -',\n",
       " 'Excluding goodwill and intangible assets (303457)',\n",
       " 'Excluding capitalised transaction expenses 112690',\n",
       " 'Excluding mark-to-market movements in any hedging agreements -',\n",
       " 'Tangible Net Worth 19662504',\n",
       " 'Minimum Tangible Net Worth Requirement 5000000',\n",
       " 'Tangible Net Worth Covenant Test Pass/Fail PASS',\n",
       " 'Minimum Cash & Cash Equivalents Covenant',\n",
       " 'PIL Group Cash & Cash Equivalents 15250035',\n",
       " 'Minimum Cash and Cash Equivalents Requirement 5000000',\n",
       " 'Cash Covenant Test Pass/Fail PASS',\n",
       " '6 month burn rate',\n",
       " 'Total income 18903122',\n",
       " '(Increase) / Decrease in trade and other receivables 478744',\n",
       " 'Less: non-recurring revenues -',\n",
       " 'A: Operating revenue received in cash 19381865',\n",
       " 'Total direct and operating costs (11523454)',\n",
       " 'Increase / (Decrease) in trade payables (882337)',\n",
       " 'Purchase of property plant and equipment -',\n",
       " 'Proceeds on disposal of property plant and equipment -',\n",
       " 'Interest paid -',\n",
       " 'Less: non-recurring expenses',\n",
       " 'B: Operating expenses paid in cash (12405791)',\n",
       " 'Burn rate for prior 6 months: Net Outflow of Cash (A less B) 6976074']"
      ]
     },
     "execution_count": 90,
     "metadata": {},
     "output_type": "execute_result"
    }
   ],
   "source": [
    "\n",
    "def clean_number_format(line):\n",
    "    # Remove commas\n",
    "    line = line.replace(\",\", \"\")\n",
    "\n",
    "    # Split the line into words\n",
    "    parts = line.split()\n",
    "\n",
    "    # Iterate through the words and merge numbers separated by spaces\n",
    "    cleaned_parts = []\n",
    "    i = 0\n",
    "    while i < len(parts):\n",
    "        # Check if current and next part are numbers\n",
    "        if i < len(parts) - 1 and re.match(r'^\\d+$', parts[i]) and re.match(r'^\\d+$', parts[i+1]):\n",
    "            cleaned_parts.append(parts[i] + parts[i+1])  # Merge numbers\n",
    "            i += 2  # Skip next part as it's merged\n",
    "        else:\n",
    "            cleaned_parts.append(parts[i])\n",
    "            i += 1\n",
    "\n",
    "    return \" \".join(cleaned_parts)\n",
    "\n",
    "# Example usage\n",
    "cleaned_lines = [clean_number_format(line) for line in lines[26:-1]]\n",
    "cleaned_lines\n"
   ]
  },
  {
   "cell_type": "code",
   "execution_count": 91,
   "metadata": {},
   "outputs": [],
   "source": [
    "\n",
    "def split_key_value(line):\n",
    "    parts = line.rsplit(\" \", 1)  # Split at the last space\n",
    "    last_part = parts[-1].strip()\n",
    "\n",
    "    # Check if last part is a number (including negative numbers in parentheses) or PASS/FAIL\n",
    "    if re.match(r'^-?\\d+$', last_part) or re.match(r'^\\(-?\\d+\\)$', last_part) or re.match(r'^\\d{2}/\\d{2}/\\d{4}$', last_part) or last_part in {\"PASS\", \"FAIL\", \"-\"}:\n",
    "        key = parts[0] if len(parts) > 1 else \"\"\n",
    "        value = last_part\n",
    "    else:\n",
    "        key = line  # Whole line as key\n",
    "        value = \"\"\n",
    "\n",
    "    return key, value\n",
    "\n",
    "data = [split_key_value(line) for line in cleaned_lines]\n",
    "df4 = pd.DataFrame(data, columns=[\"\", \"\"])\n",
    "# df4\n",
    "output_filename = os.path.join(folder_name, 'extracted_df4.xlsx')\n",
    "df4.to_excel(output_filename, index=False, header=False)"
   ]
  },
  {
   "cell_type": "code",
   "execution_count": 92,
   "metadata": {},
   "outputs": [
    {
     "data": {
      "text/plain": [
       "['PFCM 2020-1 Servicer Report - Feb 25 (UK EU)',\n",
       " '5 Performance Triggers',\n",
       " 'Test Date 07/02/2025',\n",
       " 'Test Loan Portfolio Purchased',\n",
       " 'USD',\n",
       " 'Portfolio Cumulative Default Ratio',\n",
       " 'Cum. Default Rate 4.23%',\n",
       " 'Cum. Default Trigger Level 11.00%',\n",
       " 'Cum. Default Rate Test Pass/Fail PASS',\n",
       " 'Arrangement Ratio (Long)',\n",
       " 'Arranagement Ratio 1.77%',\n",
       " 'Forbearance Ratio Trigger Level 5.00%',\n",
       " 'Forbearance Ratio Test Pass/Fail PASS',\n",
       " 'Ratio Numerator 1,766,724',\n",
       " 'Ratio Denominator 99,563,532',\n",
       " 'Arrangement Ratio (Short)',\n",
       " 'Arranagement Ratio 2.79%',\n",
       " 'Forbearance Ratio Trigger Level 12.00%',\n",
       " 'Forbearance Ratio Test Pass/Fail PASS',\n",
       " 'Ratio Numerator 2,779,456',\n",
       " 'Ratio Denominator 99,563,532',\n",
       " 'Weighted Average Margin',\n",
       " 'Weighted Average Interest Margin 8.16%',\n",
       " 'Weighted Average Interest Margin Trigger Level (Min) 5.25%',\n",
       " 'Weighted Average Margin Test Pass/Fail PASS',\n",
       " 'In-Study Forbearance Loans',\n",
       " 'Count of loans in In-Study Forbearance 15.00',\n",
       " 'In-Study Forbearance Loans Trigger Level 75.00',\n",
       " 'In-Study Forbearance Loans Test Pass/Fail PASS',\n",
       " 'Other Triggers Tested on All Receivables',\n",
       " 'Delinquency Ratio',\n",
       " 'Delinquency Ratio 3.86%',\n",
       " 'Delinquency Ratio Trigger Level 6.00%',\n",
       " 'Delinquency Ratio Test Pass/Fail PASS',\n",
       " '6 Servicing Fee Reporting',\n",
       " 'Accrued Servicing Fee Lagged 1 month - period to 7 Jan 25 USD Loans',\n",
       " 'Deferred Senior Servicing Fee USD',\n",
       " 'Opening Balance -',\n",
       " '7 Feb 25 Senior Fee Payable 1 31,103.61',\n",
       " 'Senior Fee Paid (131,103.61)',\n",
       " 'Closing Balance -',\n",
       " 'Deferred Junior Servicing Fee',\n",
       " 'Opening Balance 7 55,850.57',\n",
       " '7 Feb 25 Junior Fee Payable 43,701.20',\n",
       " '7 Feb 25 Senior Servicing Fee Deferred -',\n",
       " 'Junior Fee Paid -',\n",
       " 'Closing Balance 7 99,551.77',\n",
       " 'Upcoming Servicer Fees payable 7 Mar 25 USD',\n",
       " 'Senior Servicing Fee Due 1 28,201.44',\n",
       " 'Outstanding Balance of all Student Loans 99,252,731.06',\n",
       " 'Rate 1.5%',\n",
       " 'Accrual 0.0861',\n",
       " 'Junior Servicing Fee Due 42,733.81',\n",
       " 'Outstanding Balance of all Student Loans 99,252,731.06',\n",
       " 'Rate 0.5%',\n",
       " 'Accrual 0.0861',\n",
       " 'Confidential 13/02/2025 Page 6']"
      ]
     },
     "execution_count": 92,
     "metadata": {},
     "output_type": "execute_result"
    }
   ],
   "source": [
    "# Page 6\n",
    "with pdfplumber.open(pdf_path) as pdf:\n",
    "    page_5 = pdf.pages[5]  # Page index 1 for Page 2\n",
    "    text = page_5.extract_text()  # Extract text instead of table\n",
    "\n",
    "lines = text.split(\"\\n\")\n",
    "lines"
   ]
  },
  {
   "cell_type": "code",
   "execution_count": 93,
   "metadata": {},
   "outputs": [
    {
     "data": {
      "text/plain": [
       "34"
      ]
     },
     "execution_count": 93,
     "metadata": {},
     "output_type": "execute_result"
    }
   ],
   "source": [
    "index_4 = next((i for i, line in enumerate(lines) if line.startswith(\"6\")), -1)\n",
    "index_4"
   ]
  },
  {
   "cell_type": "code",
   "execution_count": 94,
   "metadata": {},
   "outputs": [
    {
     "data": {
      "text/plain": [
       "['Test Loan Portfolio Purchased',\n",
       " 'USD',\n",
       " 'Portfolio Cumulative Default Ratio',\n",
       " 'Cum. Default Rate 4.23%',\n",
       " 'Cum. Default Trigger Level 11.00%',\n",
       " 'Cum. Default Rate Test Pass/Fail PASS',\n",
       " 'Arrangement Ratio (Long)',\n",
       " 'Arranagement Ratio 1.77%',\n",
       " 'Forbearance Ratio Trigger Level 5.00%',\n",
       " 'Forbearance Ratio Test Pass/Fail PASS',\n",
       " 'Ratio Numerator 1766724',\n",
       " 'Ratio Denominator 99563532',\n",
       " 'Arrangement Ratio (Short)',\n",
       " 'Arranagement Ratio 2.79%',\n",
       " 'Forbearance Ratio Trigger Level 12.00%',\n",
       " 'Forbearance Ratio Test Pass/Fail PASS',\n",
       " 'Ratio Numerator 2779456',\n",
       " 'Ratio Denominator 99563532',\n",
       " 'Weighted Average Margin',\n",
       " 'Weighted Average Interest Margin 8.16%',\n",
       " 'Weighted Average Interest Margin Trigger Level (Min) 5.25%',\n",
       " 'Weighted Average Margin Test Pass/Fail PASS',\n",
       " 'In-Study Forbearance Loans',\n",
       " 'Count of loans in In-Study Forbearance 15.00',\n",
       " 'In-Study Forbearance Loans Trigger Level 75.00',\n",
       " 'In-Study Forbearance Loans Test Pass/Fail PASS',\n",
       " 'Other Triggers Tested on All Receivables',\n",
       " 'Delinquency Ratio',\n",
       " 'Delinquency Ratio 3.86%',\n",
       " 'Delinquency Ratio Trigger Level 6.00%',\n",
       " 'Delinquency Ratio Test Pass/Fail PASS']"
      ]
     },
     "execution_count": 94,
     "metadata": {},
     "output_type": "execute_result"
    }
   ],
   "source": [
    "\n",
    "def clean_number_format(line):\n",
    "    # Remove commas\n",
    "    line = line.replace(\",\", \"\")\n",
    "\n",
    "    # Split the line into words\n",
    "    parts = line.split()\n",
    "\n",
    "    # Iterate through the words and merge numbers separated by spaces\n",
    "    cleaned_parts = []\n",
    "    i = 0\n",
    "    while i < len(parts):\n",
    "        # Check if current and next part are numbers\n",
    "        if i < len(parts) - 1 and re.match(r'^\\d+$', parts[i]) and re.match(r'^\\d+$', parts[i+1]):\n",
    "            cleaned_parts.append(parts[i] + parts[i+1])  # Merge numbers\n",
    "            i += 2  # Skip next part as it's merged\n",
    "        else:\n",
    "            cleaned_parts.append(parts[i])\n",
    "            i += 1\n",
    "\n",
    "    return \" \".join(cleaned_parts)\n",
    "\n",
    "# Example usage\n",
    "cleaned_lines = [clean_number_format(line) for line in lines[3:34]]\n",
    "cleaned_lines\n"
   ]
  },
  {
   "cell_type": "code",
   "execution_count": 95,
   "metadata": {},
   "outputs": [],
   "source": [
    "def split_key_value(line):\n",
    "    parts = line.rsplit(\" \", 1)  # Split at the last space\n",
    "    last_part = parts[-1].strip()\n",
    "\n",
    "    # Check if last part is a number (including negative numbers in parentheses) or PASS/FAIL\n",
    "    if  re.match(r'^-?\\d+$', last_part) or re.match(r'^\\(-?\\d+\\)$', last_part) or re.match(r'^\\d{2}/\\d{2}/\\d{4}$', last_part) or re.match(r'^-?\\d+(\\.\\d+)?%$', last_part) or re.match(r'^-?\\d+\\.\\d+$', last_part) or last_part in {\"PASS\", \"FAIL\", \"-\"}:\n",
    "        key = parts[0] if len(parts) > 1 else \"\"\n",
    "        value = last_part\n",
    "    else:\n",
    "        key = line  # Whole line as key\n",
    "        value = \"\"\n",
    "\n",
    "    return key, value\n",
    "\n",
    "data = [split_key_value(line) for line in cleaned_lines]\n",
    "df5 = pd.DataFrame(data, columns=[\"\", \"\"])\n",
    "# df5\n",
    "output_filename = os.path.join(folder_name, 'extracted_df5.xlsx')\n",
    "df5.to_excel(output_filename, index=False, header=False)"
   ]
  },
  {
   "cell_type": "code",
   "execution_count": 96,
   "metadata": {},
   "outputs": [],
   "source": [
    "output_file = 'prodigy_dfc_pdf_output.xlsx'\n",
    "tables_folder = os.path.join(os.getcwd(), \"dfc_files\")\n",
    "excel_files = [f for f in os.listdir(tables_folder) if f.endswith('.xlsx')]\n",
    "sorted_file_names = sorted(excel_files, key=lambda x: int(re.search(r'(\\d+)', x).group()))\n",
    "# sorted_file_names\n",
    "with pd.ExcelWriter(output_file, engine='openpyxl') as writer:\n",
    "    start_row = 0  # Track the starting row for each dataset\n",
    "    \n",
    "    for file in sorted_file_names:\n",
    "        # Read the data from the current file\n",
    "        file_path = os.path.join(folder_name, file)\n",
    "        # print(\"file_path\", file_path)\n",
    "        data = pd.read_excel(file_path)\n",
    "        \n",
    "        # Write data to the final Excel file at the correct row position\n",
    "        data.to_excel(writer, sheet_name='Sheet1', startrow=start_row, index=False)\n",
    "\n",
    "        # Update start_row to place the next dataset after 2 empty rows\n",
    "        start_row += len(data) + 2 "
   ]
  },
  {
   "cell_type": "code",
   "execution_count": null,
   "metadata": {},
   "outputs": [],
   "source": []
  }
 ],
 "metadata": {
  "kernelspec": {
   "display_name": "auto",
   "language": "python",
   "name": "python3"
  },
  "language_info": {
   "codemirror_mode": {
    "name": "ipython",
    "version": 3
   },
   "file_extension": ".py",
   "mimetype": "text/x-python",
   "name": "python",
   "nbconvert_exporter": "python",
   "pygments_lexer": "ipython3",
   "version": "3.9.6"
  }
 },
 "nbformat": 4,
 "nbformat_minor": 2
}
