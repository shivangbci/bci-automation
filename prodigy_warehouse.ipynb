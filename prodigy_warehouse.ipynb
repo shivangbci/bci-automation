{
 "cells": [
  {
   "cell_type": "code",
   "execution_count": 3,
   "metadata": {},
   "outputs": [],
   "source": [
    "import os\n",
    "import re\n",
    "import pdfplumber\n",
    "import pandas as pd\n",
    "from openpyxl import Workbook\n",
    "from datetime import datetime, timedelta"
   ]
  },
  {
   "cell_type": "code",
   "execution_count": 4,
   "metadata": {},
   "outputs": [],
   "source": [
    "pdf_path = \"/Users/shivangsingh/Downloads/1727765799-BCIEuropeLtdSARL-OnbehalfofitsCompartmentC20241001-7-81fh4m.pdf\"\n"
   ]
  },
  {
   "cell_type": "code",
   "execution_count": null,
   "metadata": {},
   "outputs": [
    {
     "ename": "PermissionError",
     "evalue": "[Errno 1] Operation not permitted: '/Users/shivangsingh/Downloads/1727765799-BCIEuropeLtdSARL-OnbehalfofitsCompartmentC20241001-7-81fh4m.pdf'",
     "output_type": "error",
     "traceback": [
      "\u001b[0;31m---------------------------------------------------------------------------\u001b[0m",
      "\u001b[0;31mPermissionError\u001b[0m                           Traceback (most recent call last)",
      "Cell \u001b[0;32mIn[5], line 2\u001b[0m\n\u001b[1;32m      1\u001b[0m folder_name \u001b[38;5;241m=\u001b[39m \u001b[38;5;124m\"\u001b[39m\u001b[38;5;124mtables\u001b[39m\u001b[38;5;124m\"\u001b[39m\n\u001b[0;32m----> 2\u001b[0m \u001b[38;5;28;01mwith\u001b[39;00m \u001b[43mpdfplumber\u001b[49m\u001b[38;5;241;43m.\u001b[39;49m\u001b[43mopen\u001b[49m\u001b[43m(\u001b[49m\u001b[43mpdf_path\u001b[49m\u001b[43m)\u001b[49m \u001b[38;5;28;01mas\u001b[39;00m pdf:\n\u001b[1;32m      3\u001b[0m     \u001b[38;5;28;01mfor\u001b[39;00m page_num, page \u001b[38;5;129;01min\u001b[39;00m \u001b[38;5;28menumerate\u001b[39m(pdf\u001b[38;5;241m.\u001b[39mpages, start\u001b[38;5;241m=\u001b[39m\u001b[38;5;241m1\u001b[39m):\n\u001b[1;32m      4\u001b[0m         tables \u001b[38;5;241m=\u001b[39m page\u001b[38;5;241m.\u001b[39mextract_tables()  \u001b[38;5;66;03m# Extract all tables on the page\u001b[39;00m\n",
      "File \u001b[0;32m~/Desktop/BCI Automation/auto/lib/python3.9/site-packages/pdfplumber/pdf.py:95\u001b[0m, in \u001b[0;36mPDF.open\u001b[0;34m(cls, path_or_fp, pages, laparams, password, strict_metadata, unicode_norm, repair, gs_path, repair_setting, raise_unicode_errors)\u001b[0m\n\u001b[1;32m     93\u001b[0m     path \u001b[38;5;241m=\u001b[39m \u001b[38;5;28;01mNone\u001b[39;00m\n\u001b[1;32m     94\u001b[0m \u001b[38;5;28;01melif\u001b[39;00m \u001b[38;5;28misinstance\u001b[39m(path_or_fp, (\u001b[38;5;28mstr\u001b[39m, pathlib\u001b[38;5;241m.\u001b[39mPath)):\n\u001b[0;32m---> 95\u001b[0m     stream \u001b[38;5;241m=\u001b[39m \u001b[38;5;28;43mopen\u001b[39;49m\u001b[43m(\u001b[49m\u001b[43mpath_or_fp\u001b[49m\u001b[43m,\u001b[49m\u001b[43m \u001b[49m\u001b[38;5;124;43m\"\u001b[39;49m\u001b[38;5;124;43mrb\u001b[39;49m\u001b[38;5;124;43m\"\u001b[39;49m\u001b[43m)\u001b[49m\n\u001b[1;32m     96\u001b[0m     stream_is_external \u001b[38;5;241m=\u001b[39m \u001b[38;5;28;01mFalse\u001b[39;00m\n\u001b[1;32m     97\u001b[0m     path \u001b[38;5;241m=\u001b[39m pathlib\u001b[38;5;241m.\u001b[39mPath(path_or_fp)\n",
      "\u001b[0;31mPermissionError\u001b[0m: [Errno 1] Operation not permitted: '/Users/shivangsingh/Downloads/1727765799-BCIEuropeLtdSARL-OnbehalfofitsCompartmentC20241001-7-81fh4m.pdf'"
     ]
    }
   ],
   "source": [
    "folder_name = \"tables\"\n",
    "with pdfplumber.open(pdf_path) as pdf:\n",
    "    for page_num, page in enumerate(pdf.pages, start=1):\n",
    "        tables = page.extract_tables()  # Extract all tables on the page\n",
    "\n",
    "        if tables:\n",
    "            for table_idx, table in enumerate(tables, start=1):\n",
    "                df = pd.DataFrame(table)  # Convert table to DataFrame\n",
    "\n",
    "                # Extract date only from the first table on page 1\n",
    "                if page_num == 1 and table_idx == 1 and df.shape[1] > 1:\n",
    "                    raw_date = df.iloc[0, 1]  # First row, second column\n",
    "\n",
    "                    try:\n",
    "                        # Convert to datetime object and format as \"7-Oct-2024\"\n",
    "                        date_obj = datetime.strptime(raw_date, \"%d %B %Y\")\n",
    "                        formatted_date = date_obj.strftime(\"%d-%b-%Y\")\n",
    "                    except ValueError:\n",
    "                        formatted_date = \"Unknown-Date\"\n",
    "\n",
    "                    print(f\"Extracted Date: {formatted_date}\")  # Debugging\n",
    "\n",
    "                # Generate output filename\n",
    "                output_filename = f\"extracted_table_page_{page_num}_table_{table_idx}.xlsx\"\n",
    "\n",
    "                # Save each table without headers (all rows as data)\n",
    "                output_filename = os.path.join(folder_name, output_filename)\n",
    "                df.to_excel(output_filename, index=False, header=False)\n",
    "                print(f\"Table {table_idx} from page {page_num} saved as {output_filename}\")\n",
    "\n"
   ]
  },
  {
   "cell_type": "code",
   "execution_count": 81,
   "metadata": {},
   "outputs": [],
   "source": [
    "# Compute adjusted dates for column names\n",
    "date_minus_1_month = (datetime.strptime(formatted_date, \"%d-%b-%Y\") - timedelta(days=29)).strftime(\"%d-%b-%Y\")\n",
    "date_minus_2_months = (datetime.strptime(formatted_date, \"%d-%b-%Y\") - timedelta(days=91)).strftime(\"%d-%b-%Y\")\n",
    "# date_minus_1_month"
   ]
  },
  {
   "cell_type": "code",
   "execution_count": 82,
   "metadata": {},
   "outputs": [
    {
     "data": {
      "text/plain": [
       "'08-Jul-2024'"
      ]
     },
     "execution_count": 82,
     "metadata": {},
     "output_type": "execute_result"
    }
   ],
   "source": [
    "date_minus_2_months"
   ]
  },
  {
   "cell_type": "code",
   "execution_count": 83,
   "metadata": {},
   "outputs": [],
   "source": [
    "table_column_mappings = {\n",
    "    \"extracted_table_page_1_table_2.xlsx\": [\n",
    "        \"Bond\", \"ISIN\", \"Currency\", \"Notes Held\", \"Clean Price\",\n",
    "        \"Clean Price + Interest\", \"Remaining Principal\", \"Accrued Interest\",\n",
    "        f\"Balance {formatted_date}\", \"Pool factor\"\n",
    "    ],\n",
    "    \"extracted_table_page_1_table_3.xlsx\": [\n",
    "        \"Bond\", \"Currency\", \"Margin Above Base\", f\"Base Rate {date_minus_2_months}\",\n",
    "        \"Target Interest Rate\", f\"Balance {date_minus_1_month}\",\n",
    "        \"New Investment or Sale\", \"Interest Earned\", \"Interest Payment\",\n",
    "        \"Principal Payment\", f\"Balance {formatted_date}\"\n",
    "    ],\n",
    "    \"extracted_table_page_2_table_2.xlsx\": [\n",
    "        \"Bond\", \"ISIN\", \"Currency\", \"Notes Held\", \"Clean Price\",\n",
    "        \"Clean Price + Interest\", \"Remaining Principal\", \"Accrued Interest\",\n",
    "        f\"Balance {formatted_date}\", \"Pool factor\"\n",
    "    ],\n",
    "    \"extracted_table_page_2_table_3.xlsx\": [\n",
    "        \"Bond\", \"Currency\", \"Margin Above Base\", f\"Base Rate {date_minus_2_months}\",\n",
    "        \"Target Interest Rate\", f\"Balance {date_minus_1_month}\",\n",
    "        \"New Investment or Sale\", \"Interest Earned\", \"Interest Payment\",\n",
    "        \"Principal Payment\", f\"Balance {formatted_date}\"\n",
    "    ],\n",
    "    \"extracted_table_page_3_table_2.xlsx\": [\n",
    "        \"Bond\", \"ISIN\", \"Currency\", \"Notes Held\", \"Clean Price\",\n",
    "        \"Clean Price + Interest\", \"Remaining Principal\", \"Accrued Interest\",\n",
    "        f\"Balance {formatted_date}\", \"Pool factor\"\n",
    "    ],\n",
    "    \"extracted_table_page_4_table_2.xlsx\": [\n",
    "        \"Bond\", \"Currency\", \"Margin Above Base\", f\"Base Rate {date_minus_2_months}\",\n",
    "        \"Target Interest Rate\", f\"Balance {date_minus_1_month}\",\n",
    "        \"New Investment or Sale\", \"Interest Earned\", \"Interest Payment\",\n",
    "        \"Principal Payment\", f\"Balance {formatted_date}\"\n",
    "    ]\n",
    "}\n"
   ]
  },
  {
   "cell_type": "code",
   "execution_count": 84,
   "metadata": {},
   "outputs": [
    {
     "name": "stdout",
     "output_type": "stream",
     "text": [
      "Updated column names for extracted_table_page_1_table_2.xlsx\n",
      "Updated column names for extracted_table_page_1_table_3.xlsx\n",
      "Updated column names for extracted_table_page_2_table_2.xlsx\n",
      "Updated column names for extracted_table_page_2_table_3.xlsx\n",
      "Updated column names for extracted_table_page_3_table_2.xlsx\n",
      "Updated column names for extracted_table_page_4_table_2.xlsx\n"
     ]
    }
   ],
   "source": [
    "for file_name, columns in table_column_mappings.items():\n",
    "    try:\n",
    "        file_path = os.path.join(folder_name, file_name)\n",
    "        df = pd.read_excel(file_path, header=None)\n",
    "\n",
    "        df.columns = columns\n",
    "\n",
    "        df.to_excel(file_path, index=False)\n",
    "\n",
    "        print(f\"Updated column names for {file_name}\")\n",
    "    except Exception as e:\n",
    "        print(f\"Error updating {file_name}: {e}\")"
   ]
  },
  {
   "cell_type": "code",
   "execution_count": 85,
   "metadata": {},
   "outputs": [
    {
     "data": {
      "text/plain": [
       "['extracted_table_page_1_table_2.xlsx',\n",
       " 'extracted_table_page_1_table_3.xlsx',\n",
       " 'extracted_table_page_2_table_2.xlsx',\n",
       " 'extracted_table_page_2_table_3.xlsx',\n",
       " 'extracted_table_page_3_table_2.xlsx',\n",
       " 'extracted_table_page_4_table_2.xlsx']"
      ]
     },
     "execution_count": 85,
     "metadata": {},
     "output_type": "execute_result"
    }
   ],
   "source": [
    "tables_folder = os.path.join(os.getcwd(), \"tables\")\n",
    "excel_files = [f for f in os.listdir(tables_folder) if f.endswith('.xlsx') and 'table_1' not in f]\n",
    "\n",
    "# Function to extract page and table numbers from the filename\n",
    "def extract_page_table_numbers(file_name):\n",
    "    # Use regular expressions to extract the page and table numbers based on your filename format\n",
    "    page_match = re.search(r'page_(\\d+)', file_name)  # Match 'page_X'\n",
    "    table_match = re.search(r'table_(\\d+)', file_name)  # Match 'table_Y'\n",
    "\n",
    "    if page_match and table_match:\n",
    "        page_num = int(page_match.group(1))  # Extract the page number\n",
    "        table_num = int(table_match.group(1))  # Extract the table number\n",
    "        return (page_num, table_num)\n",
    "    else:\n",
    "        return (float('inf'), float('inf'))  # In case something goes wrong, return large numbers\n",
    "\n",
    "# Sort the files based on extracted page and table numbers\n",
    "sorted_files = sorted(excel_files, key=extract_page_table_numbers)\n",
    "sorted_files"
   ]
  },
  {
   "cell_type": "code",
   "execution_count": 86,
   "metadata": {},
   "outputs": [],
   "source": [
    "output_file = 'prodigy_pdf_output.xlsx'\n",
    "with pd.ExcelWriter(output_file, engine='openpyxl') as writer:\n",
    "    start_row = 0  # Track the starting row for each dataset\n",
    "    \n",
    "    for file in sorted_files:\n",
    "        # Read the data from the current file\n",
    "        file_path = os.path.join(folder_name, file)\n",
    "        data = pd.read_excel(file_path)\n",
    "        \n",
    "        # Write data to the final Excel file at the correct row position\n",
    "        data.to_excel(writer, sheet_name='Sheet1', startrow=start_row, index=False)\n",
    "\n",
    "        # Update start_row to place the next dataset after 2 empty rows\n",
    "        start_row += len(data) + 2  "
   ]
  },
  {
   "cell_type": "code",
   "execution_count": null,
   "metadata": {},
   "outputs": [],
   "source": []
  },
  {
   "cell_type": "code",
   "execution_count": null,
   "metadata": {},
   "outputs": [],
   "source": []
  }
 ],
 "metadata": {
  "kernelspec": {
   "display_name": "auto",
   "language": "python",
   "name": "python3"
  },
  "language_info": {
   "codemirror_mode": {
    "name": "ipython",
    "version": 3
   },
   "file_extension": ".py",
   "mimetype": "text/x-python",
   "name": "python",
   "nbconvert_exporter": "python",
   "pygments_lexer": "ipython3",
   "version": "3.9.6"
  }
 },
 "nbformat": 4,
 "nbformat_minor": 2
}
