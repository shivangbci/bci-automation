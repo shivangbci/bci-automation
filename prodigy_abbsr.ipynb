{
 "cells": [
  {
   "cell_type": "code",
   "execution_count": 487,
   "metadata": {},
   "outputs": [],
   "source": [
    "import re\n",
    "import os\n",
    "import pandas as pd\n",
    "import pdfplumber"
   ]
  },
  {
   "cell_type": "code",
   "execution_count": 488,
   "metadata": {},
   "outputs": [],
   "source": [
    "pdf_path = \"/Users/shivangsingh/Downloads/PFCM 2021-1 Servicer Report - Jan 25.pdf\"\n",
    "folder_name = \"abbsr_files\"\n",
    "# pages_to_extract = [2, 5]"
   ]
  },
  {
   "cell_type": "code",
   "execution_count": null,
   "metadata": {},
   "outputs": [
    {
     "name": "stdout",
     "output_type": "stream",
     "text": [
      "PRODIGY FINANCE CM 2021-1, DAC POOL SUMMARY\n",
      "Distribution Date 27-Jan-2025 Collateral Strats\n",
      "Collection Period End 07-Jan-2025\n",
      "1 Collateral Strats Current Reporting Previous month 7th June 2021 CutOff (Closing)\n",
      "All balances principal, admin fee and grace interest USD Loans USD Loans USD Loans\n",
      "unless stated otherwise USD USD USD\n",
      "Unique Borrowers Count (excluding Settled borrowers) 2 ,100 2 ,139 6 ,045\n",
      "Loan Count (excluding Settled loans) 2 ,746 2 ,799 8 ,048\n",
      "Principal Balance & Admin Fee Only 8 0,910,548 8 2,485,588 2 89,319,514\n",
      "Principal Balance, Admin Fee & Interest During Grace 8 2,206,663 8 3,813,608 3 03,449,769\n",
      "Average Loan Size incl Interest during Grace 2 9,937 2 9,944 3 7,705\n",
      "WA Margin Loans (%) 6.61% 6.61% 6.56%\n",
      "Lowest Margin (%) 4.50% 4.50% 4.50%\n",
      "Last Maturity Date 07 July 2043 07 July 2043 07 July 2043\n",
      "WA Original Repay Period (Years) 1 4.3 1 4.3 1 3.7\n",
      "WA Remaining Term to Maturity (Years) 1 0.0 1 0.1 1 2.9\n",
      "WA Remaining Grace Period (of Grace loans) (Years) - - 0 .42\n",
      "WA Seasoning (Months in Repayment) 5 3.7 5 2.7 1 1.1\n",
      "Permitted maximum Modified Loan balance per Annual\n",
      "Period 4 ,579,435 4 ,579,435 1 5,172,488\n",
      "Total Modified Loan balance over Annual Period 3 0,120 - -\n",
      "Modified Loan % 0.04% 0.00% 0.00%\n",
      "Modified Loans threshold per Annual Period 5% 5% 5%\n",
      "Max 5% threshold p.a. met? PASS PASS PASS\n",
      "Total Ever since July 2021 Modified Loan Balance as of Mod i f i e d M o n t h 1,764,854 1,734,733\n"
     ]
    }
   ],
   "source": [
    "with pdfplumber.open(pdf_path) as pdf:\n",
    "    page = pdf.pages[1]  # Page index 1 for Page 2\n",
    "    text = page.extract_text()  # Extract text instead of table\n",
    "\n",
    "lines = text.split(\"\\n\")\n",
    "\n",
    "for line in lines:\n",
    "    print(line)\n"
   ]
  },
  {
   "cell_type": "code",
   "execution_count": 490,
   "metadata": {},
   "outputs": [],
   "source": [
    "\n",
    "key_value_pairs = [\n",
    "    (\"PRODIGY FINANCE CM 2021-1, DAC\", \"POOL SUMMARY\"),\n",
    "    (\"Distribution Date\", lines[1].split()[2]),  # Extract the date\n",
    "    (\"Collection Period End\", lines[2].split()[3])  # Extract the date\n",
    "]\n",
    "\n",
    "# Convert the key-value pairs into a DataFrame\n",
    "df1 = pd.DataFrame(key_value_pairs, columns=[\"Key\", \"Value\"])\n",
    "df1\n",
    "output_filename = os.path.join(folder_name, 'extracted_df1.xlsx')\n",
    "df1.to_excel(output_filename, index=False, header=False)"
   ]
  },
  {
   "cell_type": "code",
   "execution_count": null,
   "metadata": {},
   "outputs": [
    {
     "data": {
      "text/plain": [
       "['All balances principal admin fee and grace interest USD Loans USD Loans USD Loans',\n",
       " 'unless stated otherwise USD USD USD',\n",
       " 'Unique Borrowers Count (excluding Settled borrowers) 2100 2139 6045',\n",
       " 'Loan Count (excluding Settled loans) 2746 2799 8048',\n",
       " 'Principal Balance & Admin Fee Only 80910548 82485588 289319514',\n",
       " 'Principal Balance Admin Fee & Interest During Grace 82206663 83813608 303449769',\n",
       " 'Average Loan Size incl Interest during Grace 29937 29944 37705',\n",
       " 'WA Margin Loans (%) 6.61% 6.61% 6.56%',\n",
       " 'Lowest Margin (%) 4.50% 4.50% 4.50%',\n",
       " 'Last Maturity Date 07_July_2043 07_July_2043 07_July_2043',\n",
       " 'WA Original Repay Period (Years) 14.3 14.3 13.7',\n",
       " 'WA Remaining Term to Maturity (Years) 10.0 10.1 12.9',\n",
       " 'WA Remaining Grace Period (of Grace loans) (Years) - - 0.42',\n",
       " 'WA Seasoning (Months in Repayment) 53.7 52.7 11.1',\n",
       " 'Permitted maximum Modified Loan balance per Annual Period 4579435 4579435 15172488',\n",
       " 'Total Modified Loan balance over Annual Period 30120 - -',\n",
       " 'Modified Loan % 0.04% 0.00% 0.00%',\n",
       " 'Modified Loans threshold per Annual Period 5% 5% 5%',\n",
       " 'Max 5% threshold p.a. met? PASS PASS PASS',\n",
       " 'Total Ever since July 2021 Modified Loan Balance as of Modified Month 1764854 1734733 ']"
      ]
     },
     "execution_count": 491,
     "metadata": {},
     "output_type": "execute_result"
    }
   ],
   "source": [
    "\n",
    "def fix_number_spacing(text):\n",
    "    text = text.replace(\",\", \"\")  # Remove all commas\n",
    "    \n",
    "    # Fix number spacing except for dates and percentages\n",
    "    text = re.sub(r'(\\d{1,2}) (January|February|March|April|May|June|July|August|September|October|November|December) (\\d{4})', r'\\1_\\2_\\3', text)\n",
    "    text = re.sub(r'(\\d) (\\d{3,})\\b', r'\\1\\2', text)  # Fix thousands/millions\n",
    "    text = re.sub(r'(\\d) (\\d\\.\\d+)', r'\\1\\2', text)  # Fix decimal numbers like 1 4.3 → 14.3\n",
    "    text = re.sub(r'(\\d) \\.(\\d+)', r'\\1.\\2', text)  # Fix cases like '9 .9' → '9.9'\n",
    "    \n",
    "    return text\n",
    "\n",
    "def merge_split_lines(lines):\n",
    "    \"\"\"Merge lines starting with 'Period' into the previous line.\"\"\"\n",
    "    merged_lines = []\n",
    "    \n",
    "    for line in lines:\n",
    "        if line.strip().startswith(\"Period\"):\n",
    "            # Merge with the last line in the list\n",
    "            if merged_lines:\n",
    "                merged_lines[-1] += \" \" + line.strip()  # Append it to the last line\n",
    "        else:\n",
    "            merged_lines.append(line.strip())  # Add new line as normal\n",
    "    \n",
    "    return merged_lines\n",
    "\n",
    "def merge_loan_balance_lines(lines):\n",
    "    \"\"\"Merge lines starting with 'Total Modified Loan balance over Annual Period' with the next line if it starts with a number.\"\"\"\n",
    "    merged_lines = []\n",
    "    i = 0\n",
    "\n",
    "    while i < len(lines):\n",
    "        line = lines[i].strip()\n",
    "\n",
    "        # Check if the current line contains the target phrase\n",
    "        if \"Total Modified Loan balance over Annual Period\" in line and i + 1 < len(lines):\n",
    "            next_line = lines[i + 1].strip()\n",
    "            \n",
    "            # Check if the next line starts with a number\n",
    "            if re.match(r'^\\d', next_line):\n",
    "                line += \" \" + next_line  # Merge the next line with the current line\n",
    "                i += 1  # Skip the next line as it's merged\n",
    "\n",
    "        merged_lines.append(line)\n",
    "        i += 1\n",
    "\n",
    "    return merged_lines\n",
    "\n",
    "def handle_last_line(line):\n",
    "    \"\"\"Fix the last line where 'Modified Month' is incorrectly spaced and numbers are joined.\"\"\"\n",
    "    # Fix the spaced-out \"Modified Month\" issue\n",
    "    # print(\"line\", line)\n",
    "    line = line.replace(\",\", \"\")\n",
    "    line = re.sub(r'\\bMod i f i e d\\b', 'Modified', line)\n",
    "    line = re.sub(r'\\bM o n t h\\b', 'Month', line)\n",
    "    line = line.strip()\n",
    "    # print(\"line\", line.strip())\n",
    "    parts = line.rsplit(\" \", 2)  # Split by last 3 spaces\n",
    "    # print(\"parts\", parts)\n",
    "    if len(parts) == 4 and parts[-2].isdigit() and parts[-1].isdigit():\n",
    "        first_part, num1, num2 = parts[0], parts[-2], parts[-1]\n",
    "        \n",
    "        return f\"{first_part} {num1} {num2}\"  # Format properly\n",
    "    \n",
    "    return line + \" \"\n",
    "\n",
    "merged_lines = merge_split_lines(lines)\n",
    "merged_lines = merge_loan_balance_lines(merged_lines)\n",
    "cleaned_lines = [fix_number_spacing(line) for line in merged_lines[4:-1]]\n",
    "\n",
    "if \"Total Ever since\" in lines[-1]:\n",
    "    lines[-1] = handle_last_line(lines[-1])\n",
    "    cleaned_lines.append(lines[-1])\n",
    "\n",
    "# cleaned_lines\n",
    "\n"
   ]
  },
  {
   "cell_type": "code",
   "execution_count": 492,
   "metadata": {},
   "outputs": [],
   "source": [
    "data = []\n",
    "for line in cleaned_lines:\n",
    "    parts = line.rsplit(\" \", 3)  # Split into last 3 columns + description\n",
    "    if len(parts) == 4:\n",
    "        desc, num1, num2, num3 = parts\n",
    "        data.append([desc.strip(), num1.strip(), num2.strip(), num3.strip()])\n",
    "    else:\n",
    "        data.append([line, \"\", \"\", \"\"])  # Handle cases where format is different\n",
    "\n",
    "\n",
    "df2 = pd.DataFrame(data, columns=[\"Collateral Strats\", \"Current Reporting\", \"Previous Month\", \"7th June 2021 CutOff\"])\n",
    "output_filename = os.path.join(folder_name, 'extracted_df2.xlsx')\n",
    "df2.to_excel(output_filename, index=False, header=True)"
   ]
  },
  {
   "cell_type": "code",
   "execution_count": null,
   "metadata": {},
   "outputs": [],
   "source": []
  },
  {
   "cell_type": "code",
   "execution_count": 493,
   "metadata": {},
   "outputs": [
    {
     "name": "stdout",
     "output_type": "stream",
     "text": [
      "2 Delinquency & Payment Arrangement Data\n",
      "Annualised Constant Prepayment Rate 15.37%\n",
      "Annualised Constant Default Rate 3.74%\n",
      "Cumulative Default rate 5.98%\n",
      "All balances are principal, admin fee and grace interest, unless stated otherwise\n",
      "Pool Balance 6 7,195,566\n",
      "defined as (Agg Loans - defaulted loans)\n",
      "USD\n",
      "Delinquency - Total Pool Outstanding Principal # Loans % of Principal WA seasoning WA margin\n",
      "a Current 5 8,670,917.7 2,098 71.4% 5 4.0 6.5%\n",
      "b Delinquent (1 instalment) 3 ,757,421.5 130 4.6% 5 4.0 6.6%\n",
      "c Delinquent (2 instalments) 1 ,958,806.8 55 2.4% 5 6.5 6.9%\n",
      "d Delinquent (3 instalments) 1 ,384,310.8 39 1.7% 5 1.5 6.8%\n",
      "e Delinquent (4 instalments) 5 35,755.8 19 0.7% 5 9 6.8%\n",
      "f Delinquent (5 instalments) 6 35,453.1 14 0.8% 5 3 7.0%\n",
      "g Delinquent (6 instalments) 2 52,900.2 7 0.3% 5 0 6.6%\n",
      "h Default (7+ instalments) 1 5,011,097.4 384 18.3% 5 2.3 6.9%\n",
      "Grand Total 8 2,206,663.5 2 ,746 100% 5 3.7 6.61%\n",
      "Delinquency - Forbearance Outstanding Principal # Loans % of Principal WA seasoning WA margin\n",
      "Current 5 28,875.8 1 3 0.6% 5 5.5 6.8%\n",
      "Delinquent (1 instalment) 4 0,646.9 2 0.0% 6 1.0 8.0%\n",
      "Delinquent (2 instalments) 1 87,367.9 5 0.2% 4 6.2 7.3%\n",
      "Delinquent (3 instalments) 8 2,407.4 2 0.1% 4 3.6 4.7%\n",
      "Delinquent (4 instalments) - - 0.0% - -\n",
      "Delinquent (5 instalments) - - 0.0% - -\n",
      "Delinquent (6 instalments) - - 0.0% - -\n",
      "Default (7+ instalments) 2 50,308.7 3 0.3% 5 5.5 5.9%\n",
      "Grand total 1 ,089,606.7 2 5 1.3% 5 3.2 6.55%\n",
      "5\n"
     ]
    }
   ],
   "source": [
    "# Page 5 extraction\n",
    "with pdfplumber.open(pdf_path) as pdf:\n",
    "    page = pdf.pages[4]  # Page index 1 for Page 2\n",
    "    text = page.extract_text()  # Extract text instead of table\n",
    "\n",
    "lines_page2 = text.split(\"\\n\")\n",
    "\n",
    "for line in lines_page2:\n",
    "    print(line)\n"
   ]
  },
  {
   "cell_type": "code",
   "execution_count": 494,
   "metadata": {},
   "outputs": [],
   "source": [
    "pool_balance = lines_page2[5].replace(\",\", \"\").split()\n",
    "pool_balance = pool_balance[-2]+ pool_balance[-1]\n",
    "\n",
    "key_value_pairs = [\n",
    "    (\"Delinquency & Payment Arrangement Data\", \" \"),\n",
    "    (\"Annualised Constant Prepayment Rate\", lines_page2[1].split()[-1]),  # Extract the date\n",
    "    (\"Annualised Constant Default Rate\", lines_page2[2].split()[-1]),  # Extract the date\n",
    "    (\"Cumulative Default rate\", lines_page2[3].split()[-1]),\n",
    "    (\"All balances are principal, admin fee and grace interest, unless stated otherwise\", \"\"),\n",
    "    (\"Pool Balance\", pool_balance),\n",
    "    (lines_page2[6], lines_page2[7])\n",
    "]\n",
    "\n",
    "# Convert the key-value pairs into a DataFrame\n",
    "df3 = pd.DataFrame(key_value_pairs, columns=[\"Key\", \"Value\"])\n",
    "output_filename = os.path.join(folder_name, 'extracted_df3.xlsx')\n",
    "df3.to_excel(output_filename, index=False, header=False)"
   ]
  },
  {
   "cell_type": "code",
   "execution_count": null,
   "metadata": {},
   "outputs": [
    {
     "data": {
      "text/plain": [
       "['a Current 58670917.7 2098 71.4% 54.0 6.5%',\n",
       " 'b Delinquent (1 instalment) 3757421.5 130 4.6% 54.0 6.6%',\n",
       " 'c Delinquent (2 instalments) 1958806.8 55 2.4% 56.5 6.9%',\n",
       " 'd Delinquent (3 instalments) 1384310.8 39 1.7% 51.5 6.8%',\n",
       " 'e Delinquent (4 instalments) 535755.8 19 0.7% 59 6.8%',\n",
       " 'f Delinquent (5 instalments) 635453.1 14 0.8% 53 7.0%',\n",
       " 'g Delinquent (6 instalments) 252900.2 7 0.3% 50 6.6%',\n",
       " 'h Default (7+ instalments) 15011097.4 384 18.3% 52.3 6.9%',\n",
       " 'Grand Total 8 2206663.52 746 100% 53.7 6.61%',\n",
       " 'Delinquency - Forbearance Outstanding Principal # Loans %of Principal WA seasoningWA margin',\n",
       " 'Current 5 28875.81 3 0.6% 55.5 6.8%',\n",
       " 'Delinquent (1 instalment) 40646.9 2 0.0% 61.0 8.0%',\n",
       " 'Delinquent (2 instalments) 187367.9 5 0.2% 46.2 7.3%',\n",
       " 'Delinquent (3 instalments) 82407.4 2 0.1% 43.6 4.7%',\n",
       " 'Delinquent (4 instalments) - - 0.0% - -',\n",
       " 'Delinquent (5 instalments) - - 0.0% - -',\n",
       " 'Delinquent (6 instalments) - - 0.0% - -',\n",
       " 'Default (7+ instalments) 250308.7 3 0.3% 55.5 5.9%',\n",
       " 'Grand total 1 089606.72 5 1.3% 53.2 6.55%',\n",
       " '5']"
      ]
     },
     "execution_count": 495,
     "metadata": {},
     "output_type": "execute_result"
    }
   ],
   "source": [
    "\n",
    "def fix_number_spacing(text):\n",
    "    # Remove commas\n",
    "    text = text.replace(\",\", \"\")\n",
    "    def remove_spaces_from_last(text):\n",
    "\n",
    "        words = text.split()\n",
    "        if len(words) >= 3 and words[-2] != '-' and words[-3] != '-':\n",
    "            words[-3] = words[-3] + words[-2]  \n",
    "            words.pop(-2) \n",
    "        \n",
    "        if len(words) >= 6 and words[-2] != '-' and words[-3] != '-':\n",
    "            words[-6] = words[-6] + words[-5]  \n",
    "            words.pop(-5)  \n",
    "        \n",
    "        return \" \".join(words)\n",
    "    \n",
    "    return remove_spaces_from_last(text)\n",
    "\n",
    "\n",
    "\n",
    "cleaned_lines = [fix_number_spacing(line) for line in lines_page2[9:]]\n",
    "cleaned_lines"
   ]
  },
  {
   "cell_type": "code",
   "execution_count": null,
   "metadata": {},
   "outputs": [
    {
     "data": {
      "text/plain": [
       "['a Current 58670917.7 2098 71.4% 54.0 6.5%',\n",
       " 'b Delinquent (1 instalment) 3757421.5 130 4.6% 54.0 6.6%',\n",
       " 'c Delinquent (2 instalments) 1958806.8 55 2.4% 56.5 6.9%',\n",
       " 'd Delinquent (3 instalments) 1384310.8 39 1.7% 51.5 6.8%',\n",
       " 'e Delinquent (4 instalments) 535755.8 19 0.7% 59 6.8%',\n",
       " 'f Delinquent (5 instalments) 635453.1 14 0.8% 53 7.0%',\n",
       " 'g Delinquent (6 instalments) 252900.2 7 0.3% 50 6.6%',\n",
       " 'h Default (7+ instalments) 15011097.4 384 18.3% 52.3 6.9%',\n",
       " 'Grand Total 82206663.52 746 100% 53.7 6.61%',\n",
       " 'Delinquency - Forbearance Outstanding Principal # Loans %of Principal WA seasoningWA margin',\n",
       " 'Current 528875.81 3 0.6% 55.5 6.8%',\n",
       " 'Delinquent (1 instalment) 40646.9 2 0.0% 61.0 8.0%',\n",
       " 'Delinquent (2 instalments) 187367.9 5 0.2% 46.2 7.3%',\n",
       " 'Delinquent (3 instalments) 82407.4 2 0.1% 43.6 4.7%',\n",
       " 'Delinquent (4 instalments) - - 0.0% - -',\n",
       " 'Delinquent (5 instalments) - - 0.0% - -',\n",
       " 'Delinquent (6 instalments) - - 0.0% - -',\n",
       " 'Default (7+ instalments) 250308.7 3 0.3% 55.5 5.9%',\n",
       " 'Grand total 1089606.72 5 1.3% 53.2 6.55%',\n",
       " '5']"
      ]
     },
     "execution_count": 496,
     "metadata": {},
     "output_type": "execute_result"
    }
   ],
   "source": [
    "def remove_spaces_from_first(text):\n",
    "\n",
    "        words = text.split()\n",
    "        \n",
    "        if len(words) >= 6:\n",
    "            # Check if both words at -6 and -5 are numeric\n",
    "            if words[-6].replace('.', '', 1).isdigit() and words[-5].replace('.', '', 1).isdigit():\n",
    "                words[-6] = words[-6] + words[-5]  # Concatenate as a string\n",
    "                words.pop(-5)  # Remove the now unnecessary element\n",
    "\n",
    "        \n",
    "        return \" \".join(words)\n",
    "\n",
    "cleaned_lines_final = [remove_spaces_from_first(line) for line in cleaned_lines]\n",
    "cleaned_lines_final"
   ]
  },
  {
   "cell_type": "code",
   "execution_count": 497,
   "metadata": {},
   "outputs": [
    {
     "data": {
      "text/plain": [
       "['a Current 58670917.7 2098 71.4% 54.0 6.5%',\n",
       " 'b Delinquent (1 instalment) 3757421.5 130 4.6% 54.0 6.6%',\n",
       " 'c Delinquent (2 instalments) 1958806.8 55 2.4% 56.5 6.9%',\n",
       " 'd Delinquent (3 instalments) 1384310.8 39 1.7% 51.5 6.8%',\n",
       " 'e Delinquent (4 instalments) 535755.8 19 0.7% 59 6.8%',\n",
       " 'f Delinquent (5 instalments) 635453.1 14 0.8% 53 7.0%',\n",
       " 'g Delinquent (6 instalments) 252900.2 7 0.3% 50 6.6%',\n",
       " 'h Default (7+ instalments) 15011097.4 384 18.3% 52.3 6.9%',\n",
       " 'Grand Total 82206663.5 2746 100% 53.7 6.61%',\n",
       " 'Delinquency - Forbearance Outstanding Principal # Loans %of Principal WA seasoningWA margin',\n",
       " 'Current 528875.8 13 0.6% 55.5 6.8%',\n",
       " 'Delinquent (1 instalment) 40646.9 2 0.0% 61.0 8.0%',\n",
       " 'Delinquent (2 instalments) 187367.9 5 0.2% 46.2 7.3%',\n",
       " 'Delinquent (3 instalments) 82407.4 2 0.1% 43.6 4.7%',\n",
       " 'Delinquent (4 instalments) - - 0.0% - -',\n",
       " 'Delinquent (5 instalments) - - 0.0% - -',\n",
       " 'Delinquent (6 instalments) - - 0.0% - -',\n",
       " 'Default (7+ instalments) 250308.7 3 0.3% 55.5 5.9%',\n",
       " 'Grand total 1089606.7 25 1.3% 53.2 6.55%',\n",
       " '5']"
      ]
     },
     "execution_count": 497,
     "metadata": {},
     "output_type": "execute_result"
    }
   ],
   "source": [
    "def process_numbers(text):\n",
    "    # Find all numbers in the text (including decimals and percentages)\n",
    "    words = text.split()  # Split text into words\n",
    "\n",
    "    for i in range(len(words)):\n",
    "        # Match numbers with more than 1 decimal place (excluding percentages)\n",
    "        if re.match(r'^\\d+\\.\\d{2,}$', words[i]):  \n",
    "            original_number = words[i]  # Store the original number as a string\n",
    "            \n",
    "            rounded_number = \"{:.1f}\".format(float(original_number))  # Keep one decimal place as a string\n",
    "            \n",
    "            extra_value = str(int(round((float(original_number) - float(rounded_number)) * 100, 0)))  # Extract decimal part as string\n",
    "            \n",
    "            words[i] = rounded_number  # Replace with rounded number\n",
    "            \n",
    "            # Find the next valid number (excluding percentages) and add extra_value\n",
    "            for j in range(i+1, len(words)):\n",
    "                if re.match(r'^\\d+(\\.\\d+)?$', words[j]):  # Ensure it's a valid number (not %)\n",
    "                    words[j] = str(extra_value) + words[j]\n",
    "                    break  # Stop after modifying the next number\n",
    "\n",
    "    return \" \".join(words) \n",
    "\n",
    "cleaned_lines_finall = [process_numbers(line) for line in cleaned_lines_final]\n",
    "cleaned_lines_finall"
   ]
  },
  {
   "cell_type": "code",
   "execution_count": 498,
   "metadata": {},
   "outputs": [],
   "source": [
    "columns = [\"Delinquency - Total Pool\", \"Outstanding Principal\", \"# Loans\", \"% of Principal\", \"WA seasoning\", \"WA margin\"]\n",
    "\n",
    "processed_data = []\n",
    "for row in cleaned_lines_finall[:9]:\n",
    "    words = row.split()  # Split by space\n",
    "    name = \" \".join(words[:-5])  # Join everything except the last 5 numbers\n",
    "    values = words[-5:]  # Last 5 items are numeric values\n",
    "    processed_data.append([name] + values)\n",
    "\n",
    "# Create DataFrame\n",
    "df4 = pd.DataFrame(processed_data, columns=columns)\n",
    "output_filename = os.path.join(folder_name, 'extracted_df4.xlsx')\n",
    "df4.to_excel(output_filename, index=False, header=True)"
   ]
  },
  {
   "cell_type": "code",
   "execution_count": 499,
   "metadata": {},
   "outputs": [],
   "source": [
    "columns = [\"Delinquency - Forbearance\", \"Outstanding Principal\", \"# Loans\", \"% of Principal\", \"WA seasoning\", \"WA margin\"]\n",
    "\n",
    "processed_data = []\n",
    "for row in cleaned_lines_finall[10:]:\n",
    "    words = row.split()  # Split by space\n",
    "    name = \" \".join(words[:-5])  # Join everything except the last 5 numbers\n",
    "    values = words[-5:]  # Last 5 items are numeric values\n",
    "    processed_data.append([name] + values)\n",
    "\n",
    "# Create DataFrame\n",
    "df5 = pd.DataFrame(processed_data, columns=columns)\n",
    "df5 = df5.drop(df5.index[-1]) \n",
    "output_filename = os.path.join(folder_name, 'extracted_df5.xlsx')\n",
    "df5.to_excel(output_filename, index=False, header=True)"
   ]
  },
  {
   "cell_type": "code",
   "execution_count": null,
   "metadata": {},
   "outputs": [
    {
     "name": "stdout",
     "output_type": "stream",
     "text": [
      "file_path abbsr_files/extracted_df1.xlsx\n",
      "file_path abbsr_files/extracted_df2.xlsx\n",
      "file_path abbsr_files/extracted_df3.xlsx\n",
      "file_path abbsr_files/extracted_df4.xlsx\n",
      "file_path abbsr_files/extracted_df5.xlsx\n"
     ]
    }
   ],
   "source": [
    "output_file = 'prodigy_abbsr_pdf_output.xlsx'\n",
    "tables_folder = os.path.join(os.getcwd(), \"abbsr_files\")\n",
    "excel_files = [f for f in os.listdir(tables_folder) if f.endswith('.xlsx')]\n",
    "sorted_file_names = sorted(excel_files, key=lambda x: int(re.search(r'(\\d+)', x).group()))\n",
    "# sorted_file_names\n",
    "with pd.ExcelWriter(output_file, engine='openpyxl') as writer:\n",
    "    start_row = 0  # Track the starting row for each dataset\n",
    "    \n",
    "    for file in sorted_file_names:\n",
    "        # Read the data from the current file\n",
    "        file_path = os.path.join(folder_name, file)\n",
    "        # print(\"file_path\", file_path)\n",
    "        data = pd.read_excel(file_path)\n",
    "        \n",
    "        # Write data to the final Excel file at the correct row position\n",
    "        data.to_excel(writer, sheet_name='Sheet1', startrow=start_row, index=False)\n",
    "\n",
    "        # Update start_row to place the next dataset after 2 empty rows\n",
    "        start_row += len(data) + 2 "
   ]
  },
  {
   "cell_type": "code",
   "execution_count": null,
   "metadata": {},
   "outputs": [],
   "source": []
  }
 ],
 "metadata": {
  "kernelspec": {
   "display_name": "auto",
   "language": "python",
   "name": "python3"
  },
  "language_info": {
   "codemirror_mode": {
    "name": "ipython",
    "version": 3
   },
   "file_extension": ".py",
   "mimetype": "text/x-python",
   "name": "python",
   "nbconvert_exporter": "python",
   "pygments_lexer": "ipython3",
   "version": "3.9.6"
  }
 },
 "nbformat": 4,
 "nbformat_minor": 2
}
